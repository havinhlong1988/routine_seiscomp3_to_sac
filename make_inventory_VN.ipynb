{
 "cells": [
  {
   "cell_type": "code",
   "execution_count": 47,
   "metadata": {},
   "outputs": [
    {
     "name": "stdout",
     "output_type": "stream",
     "text": [
      "('Episensor, DC to >200 Hz,  20V differential full scale voltage, 2g clip level', 'http://ds.iris.edu/NRL/sensors/kinemetrics/RESP.XX.NS218..BNZ.Episensor.DC_200.20VDF.2G')\n",
      "('Q330HR, gain 1, 100 sps, port A (chans 1-3), linear filters for all sample rates', 'http://ds.iris.edu/NRL/dataloggers/quanterra/RESP.XX.NQ062..HHZ.Q330.HR.1.100.all')\n",
      "Channel Response\n",
      "\tFrom M/S (Velocity in Meters per Second) to COUNTS (Digital Counts)\n",
      "\tOverall Sensitivity: 2.51948e+09 defined at 1.000 Hz\n",
      "\t4 stages:\n",
      "\t\tStage 1: PolesZerosResponseStage from M/S to V, gain: 1500\n",
      "\t\tStage 2: ResponseStage from V to V, gain: 1\n",
      "\t\tStage 3: CoefficientsTypeResponseStage from V to COUNTS, gain: 1.67772e+06\n",
      "\t\tStage 4: CoefficientsTypeResponseStage from COUNTS to COUNTS, gain: 1\n"
     ]
    }
   ],
   "source": [
    "# Before create the inventory file for all the staion, we need to check all the detail about the instrument response\n",
    "# there are avaiable on the IRIS-database (the same function with NRL site and PDCC program)\n",
    "# https://docs.obspy.org/packages/obspy.clients.nrl.html#module-obspy.clients.nrl\n",
    "## ------------------------------------------------------------------------------------------------------------------\n",
    "# Check the client on IRIS-Nominal Response Library (IRIS-NRL) data base\n",
    "# http://ds.iris.edu/NRL/\n",
    "from obspy.clients.nrl import NRL\n",
    "nrl = NRL()\n",
    "# We can print all the database or the specific detail\n",
    "#print(nrl)\n",
    "#print(nrl.sensors)\n",
    "# print(nrl.sensors['Kinemetrics'])\n",
    "#print(nrl.sensors['Kinemetrics']['Episensor (ES-T, ES-U, ES-U2, DS-DH, SBEPI)'])\n",
    "#print(nrl.sensors['Kinemetrics']['Episensor (ES-T, ES-U, ES-U2, DS-DH, SBEPI)']['+/- 20V Differential'])\n",
    "print(nrl.sensors['Kinemetrics']['Episensor (ES-T, ES-U, ES-U2, DS-DH, SBEPI)']['+/- 20V Differential']['2g'])\n",
    "#\n",
    "print(nrl.dataloggers['Quanterra']['Q330HR']['A']['1']['100']['LINEAR AT ALL SPS'])\n",
    "## -------------------------------------------------------------------------------###\n",
    "## Response objects can be extracted by providing the datalogger and sensor keys:\n",
    "# SLV - Quanterra Q330HR - Streckeisen STS-2 - Episensor FBA-EST\n",
    "response = nrl.get_response(\n",
    "    sensor_keys=['Streckeisen','STS-2','1500','3 - installed 04/97 to present'],\n",
    "    datalogger_keys=['Quanterra','Q330HR','A','1','100','LINEAR AT ALL SPS'])\n",
    "print(response) "
   ]
  },
  {
   "cell_type": "code",
   "execution_count": 74,
   "metadata": {},
   "outputs": [
    {
     "ename": "SyntaxError",
     "evalue": "expression cannot contain assignment, perhaps you meant \"==\"? (<ipython-input-74-71c14b5780d4>, line 59)",
     "output_type": "error",
     "traceback": [
      "\u001b[1;36m  File \u001b[1;32m\"<ipython-input-74-71c14b5780d4>\"\u001b[1;36m, line \u001b[1;32m59\u001b[0m\n\u001b[1;33m    cha.response = response,\u001b[0m\n\u001b[1;37m    ^\u001b[0m\n\u001b[1;31mSyntaxError\u001b[0m\u001b[1;31m:\u001b[0m expression cannot contain assignment, perhaps you meant \"==\"?\n"
     ]
    }
   ],
   "source": [
    "## Now we can create all the station (included the equiment insde) of all the network we use for 1 stations\n",
    "import obspy\n",
    "from obspy.core.inventory import Inventory, Network, Station, Channel, Site\n",
    "from obspy.clients.nrl import NRL\n",
    "\n",
    "\n",
    "# We'll first create all the various objects. These strongly follow the\n",
    "# hierarchy of StationXML files.\n",
    "inv = Inventory(\n",
    "    # We'll add networks later.\n",
    "    networks=[],\n",
    "    # The source should be the id whoever create the file.\n",
    "    source=\"Vietnam National Seismological Network\",\n",
    "net = Network(\n",
    "    # This is the network code according to the SEED standard.\n",
    "    code=\"VN\",\n",
    "    # A list of stations. We'll add one later.\n",
    "    stations=[],\n",
    "    description=\"Vietnam National Seismological Network.\",\n",
    "    # Start-and end dates are optional.\n",
    "    start_date=obspy.UTCDateTime(2008, 10, 1)),\n",
    "\n",
    "sta = Station(\n",
    "    # This is the station code according to the SEED standard.\n",
    "    code=\"SLV\",\n",
    "    latitude=11.94525,\n",
    "    longitude=108.48169,\n",
    "    elevation=1595.0,\n",
    "    creation_date=obspy.UTCDateTime(2008, 10, 1),\n",
    "    site=Site(name=\"Son La station\")),\n",
    "\n",
    "cha = Channel(\n",
    "    # This is the channel code according to the SEED standard.\n",
    "    code=\"HHZ\",\n",
    "    # This is the location code according to the SEED standard.\n",
    "    location_code=\"\",\n",
    "    # Note that these coordinates can differ from the station coordinates.\n",
    "    latitude=11.94525,\n",
    "    longitude=108.48169,\n",
    "    elevation=1595.0,\n",
    "    depth=0.0,\n",
    "    azimuth=0.0,\n",
    "    dip=-90.0,\n",
    "    sample_rate=100),\n",
    "\n",
    "# By default this accesses the NRL online. Offline copies of the NRL can\n",
    "# also be used instead\n",
    "nrl = NRL(),\n",
    "# The contents of the NRL can be explored interactively in a Python prompt,\n",
    "# see API documentation of NRL submodule:\n",
    "# http://docs.obspy.org/packages/obspy.clients.nrl.html\n",
    "# Here we assume that the end point of data logger and sensor are already\n",
    "# known:\n",
    "response = nrl.get_response(\n",
    "    sensor_keys=['Streckeisen','STS-2','1500','3 - installed 04/97 to present'],\n",
    "    datalogger_keys=['Quanterra','Q330HR','A','1','100','LINEAR AT ALL SPS']),\n",
    "\n",
    "# Now tie it all together.\n",
    "cha.response = response,\n",
    "sta.channels.append(cha),\n",
    "net.stations.append(sta),\n",
    "inv.networks.append(net),\n",
    "\n",
    "\n",
    "# And finally write it to a StationXML file. We also force a validation against\n",
    "# the StationXML schema to ensure it produces a valid StationXML file.\n",
    "#\n",
    "# Note that it is also possible to serialize to any of the other inventory\n",
    "# output formats ObsPy supports.\n",
    "inv.write(\"station.xml\", format=\"stationxml\", validate=True)\n",
    ")"
   ]
  },
  {
   "cell_type": "code",
   "execution_count": 54,
   "metadata": {},
   "outputs": [
    {
     "ename": "NameError",
     "evalue": "name 'Inventory' is not defined",
     "output_type": "error",
     "traceback": [
      "\u001b[1;31m---------------------------------------------------------------------------\u001b[0m",
      "\u001b[1;31mNameError\u001b[0m                                 Traceback (most recent call last)",
      "\u001b[1;32m<ipython-input-54-d0c4b76f4814>\u001b[0m in \u001b[0;36m<module>\u001b[1;34m\u001b[0m\n\u001b[1;32m----> 1\u001b[1;33m \u001b[0mInventory\u001b[0m\u001b[1;33m\u001b[0m\u001b[1;33m\u001b[0m\u001b[0m\n\u001b[0m",
      "\u001b[1;31mNameError\u001b[0m: name 'Inventory' is not defined"
     ]
    }
   ],
   "source": []
  }
 ],
 "metadata": {
  "kernelspec": {
   "display_name": "obspy",
   "language": "python",
   "name": "obspy"
  },
  "language_info": {
   "codemirror_mode": {
    "name": "ipython",
    "version": 3
   },
   "file_extension": ".py",
   "mimetype": "text/x-python",
   "name": "python",
   "nbconvert_exporter": "python",
   "pygments_lexer": "ipython3",
   "version": "3.8.3"
  }
 },
 "nbformat": 4,
 "nbformat_minor": 4
}
